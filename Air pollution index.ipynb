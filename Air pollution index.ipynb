{
 "cells": [
  {
   "cell_type": "code",
   "execution_count": 1,
   "id": "b527eebd",
   "metadata": {},
   "outputs": [],
   "source": [
    "#get the API key\n",
    "import requests\n",
    "import json\n",
    "\n",
    "with open('keys.json') as f:\n",
    "    keys = json.load(f)\n",
    "api_key = keys['open_weather']['api_key'] "
   ]
  },
  {
   "cell_type": "code",
   "execution_count": 2,
   "id": "fb4deb80",
   "metadata": {},
   "outputs": [
    {
     "data": {
      "text/plain": [
       "<Response [200]>"
      ]
     },
     "execution_count": 2,
     "metadata": {},
     "output_type": "execute_result"
    }
   ],
   "source": [
    "#fill the latitude and longtitude information of London into the API call\n",
    "url = f'http://api.openweathermap.org/data/2.5/air_pollution?lat=51.5002&lon=-000.1262&appid={api_key}'\n",
    "r = requests.get(url)\n",
    "r"
   ]
  },
  {
   "cell_type": "code",
   "execution_count": 4,
   "id": "1acfcb19",
   "metadata": {},
   "outputs": [],
   "source": [
    "#get air quality index\n",
    "parsed_data = json.loads(r.text)\n",
    "air_quality_index = parsed_data['list'][0]['main']['aqi']"
   ]
  },
  {
   "cell_type": "code",
   "execution_count": null,
   "id": "f14cdc6d",
   "metadata": {},
   "outputs": [],
   "source": []
  }
 ],
 "metadata": {
  "kernelspec": {
   "display_name": "Python 3 (ipykernel)",
   "language": "python",
   "name": "python3"
  },
  "language_info": {
   "codemirror_mode": {
    "name": "ipython",
    "version": 3
   },
   "file_extension": ".py",
   "mimetype": "text/x-python",
   "name": "python",
   "nbconvert_exporter": "python",
   "pygments_lexer": "ipython3",
   "version": "3.9.12"
  }
 },
 "nbformat": 4,
 "nbformat_minor": 5
}
